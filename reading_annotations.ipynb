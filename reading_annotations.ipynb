{
 "cells": [
  {
   "cell_type": "markdown",
   "id": "d90aeead-cbda-4002-beaa-ec1c42441395",
   "metadata": {},
   "source": [
    "**Authors:** Yash Dave and Akash Mahajan (Part of CIS579 Fall 2023 term project)"
   ]
  },
  {
   "cell_type": "markdown",
   "id": "3bd525fa-0472-414d-b77f-5d8e10a67956",
   "metadata": {},
   "source": [
    "**Purpose of code**: OpenCV CVAT saves all annotations separately and don't group together the annotations intended for same image. This code groups together annotations created for the same image in case the image has multiple Region of Interest (RoI)  "
   ]
  },
  {
   "cell_type": "code",
   "execution_count": 19,
   "id": "ad0958a5-885b-47d6-a543-d3c938590334",
   "metadata": {},
   "outputs": [],
   "source": [
    "import json\n",
    "import os\n",
    "\n",
    "cwd = os.getcwd()\n",
    "annotations_path = cwd + \"/annotated_dataset/non_ideal_coco_annotations/annotations/instances_default.json\"\n",
    "file = open(annotations_path, \"r\", encoding = \"utf-8\")\n",
    "json = json.load(file)\n",
    "\n",
    "# Close file to avoid memory leaks\n",
    "file.close()"
   ]
  },
  {
   "cell_type": "code",
   "execution_count": 20,
   "id": "7cc16def-e824-4fe3-9093-54eebddd55d4",
   "metadata": {},
   "outputs": [],
   "source": [
    "def group_annotations_by_image(images: list, annotations: list):\n",
    "    \"\"\"\n",
    "    Picks up each image from `images` list and finds all associated annotations in `annotations` list\n",
    "    images: a list of image metadata in CVAT annotation file.\n",
    "    annotations: a list of annotations in CVAT annotation file.\n",
    "    returns: a dictionary of annotations grouped by image IDs\n",
    "    \"\"\"\n",
    "    group = {}\n",
    "    for i in range(len(images)):\n",
    "        image_id = images[i][\"id\"]\n",
    "        group[image_id] = []\n",
    "        for j in range(len(annotations)):\n",
    "            if annotations[j][\"image_id\"] == image_id:\n",
    "                group[image_id].append(annotations[j])\n",
    "\n",
    "    return group\n",
    "\n",
    "group = group_annotations_by_image(json[\"images\"], json[\"annotations\"])"
   ]
  },
  {
   "cell_type": "code",
   "execution_count": 21,
   "id": "c94044a3-5049-4ff9-b910-8118223053a0",
   "metadata": {},
   "outputs": [],
   "source": [
    "def get_annotation_by_image_id(image_id:int, annotations: list):\n",
    "    \"\"\"\n",
    "    Returns annotations for a given image\n",
    "    image_id: a unique ID for the image\n",
    "    annotations: a set of annotations which are usually accessed by key \"annotations\" in CVAT annotation file\n",
    "    returns: A list of annotations for a single image file\n",
    "    \"\"\"\n",
    "    annotation_list = []\n",
    "    for i in range(len(annotations)):\n",
    "        if annotations[i][\"image_id\"] == image_id:\n",
    "            annotation_list.append(annotations[i])\n",
    "\n",
    "    return annotation_list\n",
    "\n",
    "\n",
    "def get_annotation_by_image_name(image_name: str, images: list, annotations: list):\n",
    "    image_id = None\n",
    "    for i in range(len(images)):\n",
    "        if images[i][\"file_name\"] == image_name:\n",
    "            image_id = images[i][\"id\"]\n",
    "            break\n",
    "\n",
    "    return get_annotation_by_image_id(image_id, annotations)"
   ]
  },
  {
   "cell_type": "code",
   "execution_count": 22,
   "id": "45d5e627-8f73-4869-b67b-e6d5542acda4",
   "metadata": {},
   "outputs": [
    {
     "name": "stdout",
     "output_type": "stream",
     "text": [
      "Annotations for image id 3 by grouping:\n",
      "[{'id': 4, 'image_id': 3, 'category_id': 1, 'segmentation': [], 'area': 9318.2327, 'bbox': [487.18, 168.55, 104.57, 89.11], 'iscrowd': 0, 'attributes': {'weather': 'non-ideal', 'occluded': False, 'rotation': 0.0}}, {'id': 5, 'image_id': 3, 'category_id': 1, 'segmentation': [], 'area': 5319.189000000001, 'bbox': [285.3, 156.72, 87.3, 60.93], 'iscrowd': 0, 'attributes': {'weather': 'non-ideal', 'occluded': False, 'rotation': 0.0}}, {'id': 6, 'image_id': 3, 'category_id': 1, 'segmentation': [], 'area': 2071.3913999999995, 'bbox': [73.48, 167.45, 66.69, 31.06], 'iscrowd': 0, 'attributes': {'weather': 'non-ideal', 'occluded': False, 'rotation': 0.0}}]\n",
      "Annotations for image id 3 by special search:\n",
      "[{'id': 4, 'image_id': 3, 'category_id': 1, 'segmentation': [], 'area': 9318.2327, 'bbox': [487.18, 168.55, 104.57, 89.11], 'iscrowd': 0, 'attributes': {'weather': 'non-ideal', 'occluded': False, 'rotation': 0.0}}, {'id': 5, 'image_id': 3, 'category_id': 1, 'segmentation': [], 'area': 5319.189000000001, 'bbox': [285.3, 156.72, 87.3, 60.93], 'iscrowd': 0, 'attributes': {'weather': 'non-ideal', 'occluded': False, 'rotation': 0.0}}, {'id': 6, 'image_id': 3, 'category_id': 1, 'segmentation': [], 'area': 2071.3913999999995, 'bbox': [73.48, 167.45, 66.69, 31.06], 'iscrowd': 0, 'attributes': {'weather': 'non-ideal', 'occluded': False, 'rotation': 0.0}}]\n"
     ]
    }
   ],
   "source": [
    "# test\n",
    "group = group_annotations_by_image(images = json[\"images\"], annotations = json[\"annotations\"])\n",
    "\n",
    "print(\"Annotations for image id 3 by grouping:\")\n",
    "print(group[3])\n",
    "\n",
    "annotation_img3 = get_annotation_by_image_id(3, annotations = json[\"annotations\"])\n",
    "print(\"Annotations for image id 3 by special search:\")\n",
    "print(annotation_img3)"
   ]
  },
  {
   "cell_type": "markdown",
   "id": "e1b89dbd-734b-4107-be77-51520cc8bf92",
   "metadata": {},
   "source": [
    "## Visualize annotation"
   ]
  },
  {
   "cell_type": "code",
   "execution_count": 23,
   "id": "e14978dc-28d9-4be7-b3ad-f6f5ec8cf855",
   "metadata": {},
   "outputs": [],
   "source": [
    "import cv2\n",
    "import matplotlib.pyplot as plt\n",
    "import os\n",
    "\n",
    "ROOT = os.getcwd() + \"/annotated_dataset/non_ideal_coco_annotations/images\"\n",
    "file = \"dusttornado-016.jpg\"\n",
    "image_path = os.path.join(ROOT, file)\n",
    "\n",
    "image = cv2.imread(image_path)\n",
    "cv2.imshow(\"Image\", image)\n",
    "cv2.waitKey(0)\n",
    "cv2.destroyAllWindows()"
   ]
  },
  {
   "cell_type": "code",
   "execution_count": 1,
   "id": "a69b15a8-7ab6-4356-ac5e-113865322486",
   "metadata": {},
   "outputs": [
    {
     "ename": "NameError",
     "evalue": "name 'get_annotation_by_image_name' is not defined",
     "output_type": "error",
     "traceback": [
      "\u001b[0;31m---------------------------------------------------------------------------\u001b[0m",
      "\u001b[0;31mNameError\u001b[0m                                 Traceback (most recent call last)",
      "Cell \u001b[0;32mIn[1], line 2\u001b[0m\n\u001b[1;32m      1\u001b[0m \u001b[38;5;66;03m# Get image annotations\u001b[39;00m\n\u001b[0;32m----> 2\u001b[0m annotations \u001b[38;5;241m=\u001b[39m \u001b[43mget_annotation_by_image_name\u001b[49m(file, json[\u001b[38;5;124m\"\u001b[39m\u001b[38;5;124mimages\u001b[39m\u001b[38;5;124m\"\u001b[39m], json[\u001b[38;5;124m\"\u001b[39m\u001b[38;5;124mannotations\u001b[39m\u001b[38;5;124m\"\u001b[39m])\n\u001b[1;32m      3\u001b[0m \u001b[38;5;28;01mif\u001b[39;00m annotations \u001b[38;5;241m==\u001b[39m \u001b[38;5;28;01mNone\u001b[39;00m:\n\u001b[1;32m      4\u001b[0m     \u001b[38;5;28;01mraise\u001b[39;00m \u001b[38;5;167;01mException\u001b[39;00m(\u001b[38;5;124m\"\u001b[39m\u001b[38;5;124mNo annotations exists for\u001b[39m\u001b[38;5;124m\"\u001b[39m, file)\n",
      "\u001b[0;31mNameError\u001b[0m: name 'get_annotation_by_image_name' is not defined"
     ]
    }
   ],
   "source": [
    "# Get image annotations\n",
    "annotations = get_annotation_by_image_name(file, json[\"images\"], json[\"annotations\"])\n",
    "if annotations == None:\n",
    "    raise Exception(\"No annotations exists for\", file)"
   ]
  },
  {
   "cell_type": "code",
   "execution_count": null,
   "id": "835dd697-bc0d-48b8-a2d9-08fe9aac0e4a",
   "metadata": {},
   "outputs": [],
   "source": [
    "# Show sample image with bounding box annotation\n",
    "import numpy as np\n",
    "\n",
    "image_copy = image.copy()\n",
    "fig, axis = plt.subplots(1, 2, figsize = (12, 4))\n",
    "axis[0].imshow(image)\n",
    "axis[0].set_title(\"Original image\")\n",
    "axis[0].axis(\"off\")\n",
    "\n",
    "red_color = (255, 255, 0)  # Color for the outlines of bounding box\n",
    "\n",
    "for k in range(len(annotations)):\n",
    "    bounding_box = np.asarray(annotations[k][\"bbox\"], dtype=np.int32)\n",
    "    x1 = bounding_box[0]\n",
    "    y1 = bounding_box[1]\n",
    "    x2 = x1 + bounding_box[2] \n",
    "    y2 = y1 + bounding_box[3]\n",
    "    cv2.rectangle(image_copy, (x1, y1), (x2, y2), red_color, 2, lineType=cv2.LINE_AA)\n",
    "\n",
    "axis[1].imshow(image_copy)\n",
    "axis[1].set_title(\"Image with annotations\")\n",
    "axis[1].axis(\"off\")\n",
    "\n",
    "fig.tight_layout()\n",
    "plt.show()"
   ]
  },
  {
   "cell_type": "code",
   "execution_count": null,
   "id": "6f530950-76e3-4b98-a45f-9d65bda8cf53",
   "metadata": {},
   "outputs": [],
   "source": []
  }
 ],
 "metadata": {
  "kernelspec": {
   "display_name": "Python 3 (ipykernel)",
   "language": "python",
   "name": "python3"
  },
  "language_info": {
   "codemirror_mode": {
    "name": "ipython",
    "version": 3
   },
   "file_extension": ".py",
   "mimetype": "text/x-python",
   "name": "python",
   "nbconvert_exporter": "python",
   "pygments_lexer": "ipython3",
   "version": "3.9.6"
  }
 },
 "nbformat": 4,
 "nbformat_minor": 5
}

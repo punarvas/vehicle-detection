{
 "cells": [
  {
   "cell_type": "markdown",
   "id": "d90aeead-cbda-4002-beaa-ec1c42441395",
   "metadata": {},
   "source": [
    "**Authors:** Yash Dave and Akash Mahajan (Part of CIS579 Fall 2023 term project)"
   ]
  },
  {
   "cell_type": "markdown",
   "id": "3bd525fa-0472-414d-b77f-5d8e10a67956",
   "metadata": {},
   "source": [
    "**Purpose of code**: OpenCV CVAT saves all annotations separately and don't group together the annotations intended for same image. This code groups together annotations created for the same image in case the image has multiple Region of Interest (RoI)  "
   ]
  },
  {
   "cell_type": "code",
   "execution_count": null,
   "id": "ad0958a5-885b-47d6-a543-d3c938590334",
   "metadata": {},
   "outputs": [],
   "source": [
    "import json\n",
    "\n",
    "annotations_path = \"data\\\\ideal\\\\annotations\\\\instances_default.json\"\n",
    "file = open(annotations_path, \"r\", encoding = \"utf-8\")\n",
    "json = json.load(file)\n",
    "\n",
    "# Close file to avoid memory leaks\n",
    "file.close()"
   ]
  },
  {
   "cell_type": "code",
   "execution_count": 27,
   "id": "7cc16def-e824-4fe3-9093-54eebddd55d4",
   "metadata": {},
   "outputs": [],
   "source": [
    "def group_annotations_by_image(images: list, annotations: list):\n",
    "    \"\"\"\n",
    "    Picks up each image from `images` list and finds all associated annotations in `annotations` list\n",
    "    images: a list of image metadata in CVAT annotation file.\n",
    "    annotations: a list of annotations in CVAT annotation file.\n",
    "    returns: a dictionary of annotations grouped by image IDs\n",
    "    \"\"\"\n",
    "    group = {}\n",
    "    for i in range(len(images)):\n",
    "        image_id = images[i][\"id\"]\n",
    "        group[image_id] = []\n",
    "        for j in range(len(annotations)):\n",
    "            if annotations[j][\"image_id\"] == image_id:\n",
    "                group[image_id].append(annotations[j])\n",
    "\n",
    "    return group\n",
    "\n",
    "group = group_annotations_by_image(json[\"images\"], json[\"annotations\"])"
   ]
  },
  {
   "cell_type": "code",
   "execution_count": 34,
   "id": "c94044a3-5049-4ff9-b910-8118223053a0",
   "metadata": {},
   "outputs": [],
   "source": [
    "def get_annotation_by_image_id(image_id:int, annotations: list):\n",
    "    \"\"\"\n",
    "    Returns annotations for a given image\n",
    "    image_id: a unique ID for the image\n",
    "    annotations: a set of annotations which are usually accessed by key \"annotations\" in CVAT annotation file\n",
    "    returns: A list of annotations for a single image file\n",
    "    \"\"\"\n",
    "    annotation_list = []\n",
    "    for i in range(len(annotations)):\n",
    "        if annotations[i][\"image_id\"] == image_id:\n",
    "            annotation_list.append(annotations[i])\n",
    "\n",
    "    return annotation_list"
   ]
  },
  {
   "cell_type": "code",
   "execution_count": 35,
   "id": "45d5e627-8f73-4869-b67b-e6d5542acda4",
   "metadata": {},
   "outputs": [
    {
     "name": "stdout",
     "output_type": "stream",
     "text": [
      "Annotations for image id 3 by grouping:\n",
      "[{'id': 4, 'image_id': 3, 'category_id': 1, 'segmentation': [], 'area': 12394.931199999994, 'bbox': [610.19, 179.78, 119.92, 103.36], 'iscrowd': 0, 'attributes': {'weather': 'ideal', 'occluded': False, 'rotation': 0.0}}]\n",
      "Annotations for image id 3 by special search:\n",
      "[{'id': 4, 'image_id': 3, 'category_id': 1, 'segmentation': [], 'area': 12394.931199999994, 'bbox': [610.19, 179.78, 119.92, 103.36], 'iscrowd': 0, 'attributes': {'weather': 'ideal', 'occluded': False, 'rotation': 0.0}}]\n"
     ]
    }
   ],
   "source": [
    "# test\n",
    "group = group_annotations_by_image(images = json[\"images\"], annotations = json[\"annotations\"])\n",
    "\n",
    "print(\"Annotations for image id 3 by grouping:\")\n",
    "print(group[3])\n",
    "\n",
    "annotation_img3 = get_annotation_by_image_id(3, annotations = json[\"annotations\"])\n",
    "print(\"Annotations for image id 3 by special search:\")\n",
    "print(annotation_img3)"
   ]
  }
 ],
 "metadata": {
  "kernelspec": {
   "display_name": "Python 3 (ipykernel)",
   "language": "python",
   "name": "python3"
  },
  "language_info": {
   "codemirror_mode": {
    "name": "ipython",
    "version": 3
   },
   "file_extension": ".py",
   "mimetype": "text/x-python",
   "name": "python",
   "nbconvert_exporter": "python",
   "pygments_lexer": "ipython3",
   "version": "3.9.18"
  }
 },
 "nbformat": 4,
 "nbformat_minor": 5
}
